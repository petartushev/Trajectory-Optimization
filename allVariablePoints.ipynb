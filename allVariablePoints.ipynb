{
 "cells": [
  {
   "cell_type": "code",
   "execution_count": 1,
   "metadata": {},
   "outputs": [],
   "source": [
    "import os\n",
    "import time\n",
    "import numpy as np\n",
    "import pandas as pd\n",
    "import random\n",
    "import math\n",
    "from pylab import rcParams\n",
    "rcParams['figure.figsize'] = 20, 15\n",
    "\n",
    "import TrajectoryImprovementLibrary as TIL\n",
    "\n",
    "import plotly.graph_objs as go\n",
    "import plotly.express as px\n",
    "\n",
    "from sklearn.preprocessing import MinMaxScaler\n",
    "\n",
    "import folium"
   ]
  },
  {
   "cell_type": "code",
   "execution_count": 2,
   "metadata": {},
   "outputs": [],
   "source": [
    "trajectory1 = np.load( os.getcwd() + '/SampleTraj/Trj_0.npy' )\n",
    "trajectory2 = np.load( os.getcwd() + '/SampleTraj/Trj_1.npy' )\n",
    "trajectory3 = np.load( os.getcwd() + '/SampleTraj/Trj_2.npy' )\n",
    "trajectory4 = np.load( os.getcwd() + '/SampleTraj/Trj_3.npy' )"
   ]
  },
  {
   "cell_type": "markdown",
   "metadata": {},
   "source": [
    "# Trajectory1"
   ]
  },
  {
   "cell_type": "code",
   "execution_count": 19,
   "metadata": {},
   "outputs": [],
   "source": [
    "variablePoints = np.zeros( trajectory1.shape[0], dtype = bool )"
   ]
  },
  {
   "cell_type": "code",
   "execution_count": 20,
   "metadata": {},
   "outputs": [],
   "source": [
    "for i in range(2, len(variablePoints)-3):\n",
    "    variablePoints[i] = True"
   ]
  },
  {
   "cell_type": "code",
   "execution_count": null,
   "metadata": {},
   "outputs": [
    {
     "name": "stderr",
     "output_type": "stream",
     "text": [
      "/home/petar/Fakultet/Semester 8/Biologically inspired computing/Proekt/TrajectoryImprovementLibrary.py:297: RuntimeWarning: invalid value encountered in double_scalars\n",
      "  return np.std( [ v_m2, v_m1, v_p1, v_p2 ] ) / np.mean( [ v_m2, v_m1, v_p1, v_p2 ] )\n"
     ]
    },
    {
     "name": "stdout",
     "output_type": "stream",
     "text": [
      "Iteration: 0\n",
      "Going over newly generated neighbours...\n",
      "Going over newly generated neighbours...\n",
      "Going over newly generated neighbours...\n",
      "Going over newly generated neighbours...\n",
      "Going over newly generated neighbours...\n"
     ]
    }
   ],
   "source": [
    "correctedTraj = TIL.TrajectoryImprovement( trajectory1, variablePoints, 'hill_climb' )"
   ]
  },
  {
   "cell_type": "code",
   "execution_count": 7,
   "metadata": {},
   "outputs": [],
   "source": [
    "tmp = trajectory1[:, 1:3]"
   ]
  },
  {
   "cell_type": "code",
   "execution_count": 8,
   "metadata": {},
   "outputs": [
    {
     "ename": "NameError",
     "evalue": "name 'correctedTraj' is not defined",
     "output_type": "error",
     "traceback": [
      "\u001b[0;31m---------------------------------------------------------------------------\u001b[0m",
      "\u001b[0;31mNameError\u001b[0m                                 Traceback (most recent call last)",
      "\u001b[0;32m<ipython-input-8-2f699ab48d11>\u001b[0m in \u001b[0;36m<module>\u001b[0;34m\u001b[0m\n\u001b[0;32m----> 1\u001b[0;31m \u001b[0mcTraj\u001b[0m \u001b[0;34m=\u001b[0m \u001b[0mcorrectedTraj\u001b[0m\u001b[0;34m[\u001b[0m\u001b[0;34m:\u001b[0m\u001b[0;34m,\u001b[0m \u001b[0;36m1\u001b[0m\u001b[0;34m:\u001b[0m\u001b[0;36m3\u001b[0m\u001b[0;34m]\u001b[0m\u001b[0;34m\u001b[0m\u001b[0;34m\u001b[0m\u001b[0m\n\u001b[0m",
      "\u001b[0;31mNameError\u001b[0m: name 'correctedTraj' is not defined"
     ]
    }
   ],
   "source": [
    "cTraj = correctedTraj[:, 1:3]"
   ]
  },
  {
   "cell_type": "code",
   "execution_count": null,
   "metadata": {},
   "outputs": [],
   "source": [
    "avg_lat = np.mean([row[0] for row in tmp])\n",
    "avg_lon = np.mean([row[1] for row in tmp])"
   ]
  },
  {
   "cell_type": "code",
   "execution_count": null,
   "metadata": {},
   "outputs": [],
   "source": [
    "m = folium.Map(\n",
    "    location=[avg_lat, avg_lon],\n",
    "    tiles=\"cartodbpositron\",\n",
    "    zoom_start=5\n",
    ")\n",
    "\n",
    "aline1 = folium.PolyLine(tmp, color='blue')\n",
    "m.add_child(aline1)\n",
    "\n",
    "aline2 = folium.PolyLine(cTraj, color='red')\n",
    "m.add_child(aline2)\n",
    "\n",
    "m"
   ]
  },
  {
   "cell_type": "code",
   "execution_count": null,
   "metadata": {},
   "outputs": [],
   "source": [
    "TIL.aux_CalculateTrajectoryError(trajectory1, variablePoints)"
   ]
  },
  {
   "cell_type": "code",
   "execution_count": null,
   "metadata": {},
   "outputs": [],
   "source": [
    "TIL.aux_CalculateTrajectoryError(cTraj, variablePoints)"
   ]
  },
  {
   "cell_type": "markdown",
   "metadata": {},
   "source": [
    "# Trajectory2"
   ]
  },
  {
   "cell_type": "code",
   "execution_count": null,
   "metadata": {},
   "outputs": [],
   "source": [
    "variablePoints = np.zeros( trajectory2.shape[0], dtype = bool )"
   ]
  },
  {
   "cell_type": "code",
   "execution_count": null,
   "metadata": {},
   "outputs": [],
   "source": [
    "for i in range(2, len(variablePoints)-3):\n",
    "    variablePoints[i] = True"
   ]
  },
  {
   "cell_type": "code",
   "execution_count": null,
   "metadata": {},
   "outputs": [],
   "source": [
    "t2_start_time = time.time()\n",
    "correctedTraj = TIL.TrajectoryImprovement( trajectory2, variablePoints, 'hill_climb' )\n",
    "t2_exec_time = time.time() - t2_start_time"
   ]
  },
  {
   "cell_type": "code",
   "execution_count": null,
   "metadata": {},
   "outputs": [],
   "source": [
    "tmp = trajectory2[:, 1:3]"
   ]
  },
  {
   "cell_type": "code",
   "execution_count": null,
   "metadata": {},
   "outputs": [],
   "source": [
    "cTraj = correctedTraj[:, 1:3]"
   ]
  },
  {
   "cell_type": "code",
   "execution_count": null,
   "metadata": {},
   "outputs": [],
   "source": [
    "avg_lat = np.mean([row[0] for row in tmp])\n",
    "avg_lon = np.mean([row[1] for row in tmp])"
   ]
  },
  {
   "cell_type": "code",
   "execution_count": null,
   "metadata": {},
   "outputs": [],
   "source": [
    "m = folium.Map(\n",
    "    location=[avg_lat, avg_lon],\n",
    "    tiles=\"cartodbpositron\",\n",
    "    zoom_start=5\n",
    ")\n",
    "\n",
    "aline1 = folium.PolyLine(tmp, color='blue')\n",
    "m.add_child(aline1)\n",
    "\n",
    "aline2 = folium.PolyLine(cTraj, color='red')\n",
    "m.add_child(aline2)\n",
    "\n",
    "m"
   ]
  },
  {
   "cell_type": "code",
   "execution_count": null,
   "metadata": {},
   "outputs": [],
   "source": [
    "TIL.aux_CalculateTrajectoryError(trajectory2, variablePoints)"
   ]
  },
  {
   "cell_type": "code",
   "execution_count": null,
   "metadata": {},
   "outputs": [],
   "source": [
    "TIL.aux_CalculateTrajectoryError(cTraj, variablePoints)"
   ]
  },
  {
   "cell_type": "markdown",
   "metadata": {},
   "source": [
    "# Trajectory3"
   ]
  },
  {
   "cell_type": "code",
   "execution_count": null,
   "metadata": {},
   "outputs": [],
   "source": [
    "variablePoints = np.zeros( trajectory3.shape[0], dtype = bool )"
   ]
  },
  {
   "cell_type": "code",
   "execution_count": null,
   "metadata": {},
   "outputs": [],
   "source": [
    "for i in range(2, len(variablePoints)-3):\n",
    "    variablePoints[i] = True"
   ]
  },
  {
   "cell_type": "code",
   "execution_count": null,
   "metadata": {},
   "outputs": [],
   "source": [
    "t3_start_time = time.time()\n",
    "correctedTraj = TIL.TrajectoryImprovement( trajectory2, variablePoints, 'hill_climb' )\n",
    "t3_exec_time = time.time() - t3_start_time"
   ]
  },
  {
   "cell_type": "code",
   "execution_count": null,
   "metadata": {},
   "outputs": [],
   "source": [
    "tmp = trajectory3[:, 1:3]"
   ]
  },
  {
   "cell_type": "code",
   "execution_count": null,
   "metadata": {},
   "outputs": [],
   "source": [
    "cTraj = correctedTraj[:, 1:3]"
   ]
  },
  {
   "cell_type": "code",
   "execution_count": null,
   "metadata": {},
   "outputs": [],
   "source": [
    "avg_lat = np.mean([row[0] for row in tmp])\n",
    "avg_lon = np.mean([row[1] for row in tmp])"
   ]
  },
  {
   "cell_type": "code",
   "execution_count": null,
   "metadata": {},
   "outputs": [],
   "source": [
    "m = folium.Map(\n",
    "    location=[avg_lat, avg_lon],\n",
    "    tiles=\"cartodbpositron\",\n",
    "    zoom_start=5\n",
    ")\n",
    "\n",
    "aline1 = folium.PolyLine(tmp, color='blue')\n",
    "m.add_child(aline1)\n",
    "\n",
    "aline2 = folium.PolyLine(cTraj, color='red')\n",
    "m.add_child(aline2)\n",
    "\n",
    "m"
   ]
  },
  {
   "cell_type": "code",
   "execution_count": null,
   "metadata": {},
   "outputs": [],
   "source": [
    "TIL.aux_CalculateTrajectoryError(trajectory3, variablePoints)"
   ]
  },
  {
   "cell_type": "code",
   "execution_count": null,
   "metadata": {},
   "outputs": [],
   "source": [
    "TIL.aux_CalculateTrajectoryError(cTraj, variablePoints)"
   ]
  },
  {
   "cell_type": "markdown",
   "metadata": {},
   "source": [
    "# Trajectory4"
   ]
  },
  {
   "cell_type": "code",
   "execution_count": null,
   "metadata": {},
   "outputs": [],
   "source": [
    "variablePoints = np.zeros( trajectory4.shape[0], dtype = bool )"
   ]
  },
  {
   "cell_type": "code",
   "execution_count": null,
   "metadata": {},
   "outputs": [],
   "source": [
    "for i in range(2, len(variablePoints)-3):\n",
    "    variablePoints[i] = True"
   ]
  },
  {
   "cell_type": "code",
   "execution_count": null,
   "metadata": {},
   "outputs": [],
   "source": [
    "t4_start_time = time.time()\n",
    "correctedTraj = TIL.TrajectoryImprovement( trajectory2, variablePoints, 'hill_climb' )\n",
    "t4_exec_time = time.time() - t4_start_time"
   ]
  },
  {
   "cell_type": "code",
   "execution_count": null,
   "metadata": {},
   "outputs": [],
   "source": [
    "tmp = trajectory3[:, 1:3]"
   ]
  },
  {
   "cell_type": "code",
   "execution_count": null,
   "metadata": {},
   "outputs": [],
   "source": [
    "cTraj = correctedTraj[:, 1:3]"
   ]
  },
  {
   "cell_type": "code",
   "execution_count": null,
   "metadata": {},
   "outputs": [],
   "source": [
    "avg_lat = np.mean([row[0] for row in tmp])\n",
    "avg_lon = np.mean([row[1] for row in tmp])"
   ]
  },
  {
   "cell_type": "code",
   "execution_count": null,
   "metadata": {},
   "outputs": [],
   "source": [
    "m = folium.Map(\n",
    "    location=[avg_lat, avg_lon],\n",
    "    tiles=\"cartodbpositron\",\n",
    "    zoom_start=5\n",
    ")\n",
    "\n",
    "aline1 = folium.PolyLine(tmp, color='blue')\n",
    "m.add_child(aline1)\n",
    "\n",
    "aline2 = folium.PolyLine(cTraj, color='red')\n",
    "m.add_child(aline2)\n",
    "\n",
    "m"
   ]
  },
  {
   "cell_type": "code",
   "execution_count": null,
   "metadata": {},
   "outputs": [],
   "source": [
    "TIL.aux_CalculateTrajectoryError(trajectory4, variablePoints)"
   ]
  },
  {
   "cell_type": "code",
   "execution_count": null,
   "metadata": {},
   "outputs": [],
   "source": [
    "TIL.aux_CalculateTrajectoryError(cTraj, variablePoints)"
   ]
  },
  {
   "cell_type": "code",
   "execution_count": null,
   "metadata": {},
   "outputs": [],
   "source": []
  },
  {
   "cell_type": "code",
   "execution_count": null,
   "metadata": {},
   "outputs": [],
   "source": []
  },
  {
   "cell_type": "code",
   "execution_count": null,
   "metadata": {},
   "outputs": [],
   "source": []
  },
  {
   "cell_type": "code",
   "execution_count": null,
   "metadata": {},
   "outputs": [],
   "source": []
  },
  {
   "cell_type": "code",
   "execution_count": null,
   "metadata": {},
   "outputs": [],
   "source": []
  }
 ],
 "metadata": {
  "kernelspec": {
   "display_name": "Python 3",
   "language": "python",
   "name": "python3"
  },
  "language_info": {
   "codemirror_mode": {
    "name": "ipython",
    "version": 3
   },
   "file_extension": ".py",
   "mimetype": "text/x-python",
   "name": "python",
   "nbconvert_exporter": "python",
   "pygments_lexer": "ipython3",
   "version": "3.7.3"
  }
 },
 "nbformat": 4,
 "nbformat_minor": 2
}
